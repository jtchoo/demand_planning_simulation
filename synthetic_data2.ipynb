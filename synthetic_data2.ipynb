{
 "cells": [
  {
   "cell_type": "code",
   "execution_count": 1,
   "metadata": {},
   "outputs": [],
   "source": [
    "import numpy as np, pandas as pd\n",
    "rng = np.random.default_rng(7)"
   ]
  },
  {
   "cell_type": "code",
   "execution_count": 2,
   "metadata": {},
   "outputs": [],
   "source": [
    "plants = pd.DataFrame([\n",
    "    (\"FRE\",\"Fremont\",\"USA\",37.5485,-121.9886),\n",
    "    (\"AUS\",\"Austin\",\"USA\",30.2672,-97.7431),\n",
    "    (\"BER\",\"Berlin\",\"DE\",52.52,13.405),\n",
    "    (\"SHA\",\"Shanghai\",\"CN\",31.2304,121.4737)\n",
    "], columns=[\"plant_id\",\"plant_name\",\"country\",\"lat\",\"lon\"])"
   ]
  },
  {
   "cell_type": "code",
   "execution_count": 3,
   "metadata": {},
   "outputs": [],
   "source": [
    "regions = pd.DataFrame([(\"EC\",\"East Coast\"),(\"CC\",\"Central\"),(\"WC\",\"West Coast\")], columns=[\"region_id\",\"region_name\"])\n",
    "models  = pd.DataFrame([(\"M3\",\"Model 3\"),(\"MY\",\"Model Y\")], columns=[\"model_code\",\"model_name\"])\n",
    "trims   = pd.DataFrame([(\"ST\",\"Standard\"),(\"PR\",\"Performance\")], columns=[\"trim_code\",\"trim_name\"])\n",
    "colors  = pd.DataFrame([(\"BK\",\"Black\"),(\"WH\",\"White\"),(\"GY\",\"Gray\"),(\"BL\",\"Blue\")], columns=[\"color_code\",\"color_name\"])"
   ]
  },
  {
   "cell_type": "code",
   "execution_count": null,
   "metadata": {},
   "outputs": [],
   "source": [
    "plants.to_csv(\"plants.csv\", index=False)\n",
    "regions.to_csv(\"regions.csv\", index=False)\n",
    "models.to_csv(\"models.csv\", index=False)\n",
    "trims.to_csv(\"trims.csv\", index=False)\n",
    "colors.to_csv(\"colors.csv\", index=False)"
   ]
  },
  {
   "cell_type": "code",
   "execution_count": null,
   "metadata": {},
   "outputs": [],
   "source": [
    "dates = pd.date_range(\"2025-07-01\",\"2025-09-30\",freq=\"D\")\n",
    "prod_rows = []\n",
    "for d in dates:\n",
    "    for _,p in plants.iterrows():\n",
    "        daily = rng.integers(120, 240)  # plant output per day\n",
    "        mix = rng.multinomial(daily, [0.6,0.4])  # M3/MY split\n",
    "        for m_idx, m in enumerate([\"M3\",\"MY\"]):\n",
    "            # trim & color splits\n",
    "            trim_split = rng.multinomial(mix[m_idx], [0.7,0.3])\n",
    "            for t_idx,t in enumerate([\"ST\",\"PR\"]):\n",
    "                col_split = rng.multinomial(trim_split[t_idx], [0.35,0.35,0.2,0.1])\n",
    "                for c_idx,c in enumerate([\"BK\",\"WH\",\"GY\",\"BL\"]):\n",
    "                    q = int(col_split[c_idx])\n",
    "                    if q>0:\n",
    "                        prod_rows.append([p.plant_id,m,t,c,str(d.date()),q])\n",
    "vehicle_production = pd.DataFrame(prod_rows, columns=[\"plant_id\",\"model_code\",\"trim_code\",\"color_code\",\"prod_date\",\"qty\"])\n",
    "vehicle_production.to_csv(\"vehicle_production.csv\", index=False)"
   ]
  },
  {
   "cell_type": "code",
   "execution_count": null,
   "metadata": {},
   "outputs": [],
   "source": [
    "weeks = pd.date_range(\"2025-07-07\",\"2025-09-29\",freq=\"W-MON\")\n",
    "dem_rows=[]\n",
    "for w in weeks:\n",
    "    for r in [\"EC\",\"CC\",\"WC\"]:\n",
    "        base = {\"EC\":0.45,\"CC\":0.30,\"WC\":0.25}[r]\n",
    "        for m in [\"M3\",\"MY\"]:\n",
    "            for t in [\"ST\",\"PR\"]:\n",
    "                for c in [\"BK\",\"WH\",\"GY\",\"BL\"]:\n",
    "                    mean = 600*base * (1.1 if m==\"MY\" else 0.9) * (1.15 if t==\"PR\" else 1.0)\n",
    "                    qty = int(max(0, rng.normal(mean, mean*0.15)))\n",
    "                    if qty>0:\n",
    "                        dem_rows.append([r,m,t,c,str(w.date()),qty])\n",
    "regional_demand = pd.DataFrame(dem_rows, columns=[\"region_id\",\"model_code\",\"trim_code\",\"color_code\",\"week_start\",\"forecast_qty\"])\n",
    "regional_demand.to_csv(\"regional_demand.csv\", index=False)\n"
   ]
  },
  {
   "cell_type": "code",
   "execution_count": null,
   "metadata": {},
   "outputs": [],
   "source": [
    "tt = []\n",
    "for p in plants.plant_id:\n",
    "    for r in regions.region_id:\n",
    "        base = {\"EC\": 6, \"CC\": 5, \"WC\": 4}[r]\n",
    "\n",
    "        if p == \"FRE\":\n",
    "            base += {\"EC\": 6, \"CC\": 4, \"WC\": 0}[r] \n",
    "        elif p == \"AUS\":\n",
    "            base += {\"EC\": 4, \"CC\": 0, \"WC\": 5}[r]\n",
    "        elif p == \"BER\":\n",
    "            base += 20\n",
    "        elif p == \"SHA\":\n",
    "            base += 18\n",
    "\n",
    "        days = base\n",
    "        cost = 400 + 60 * days\n",
    "\n",
    "        tt.append([p, r, days, cost])\n",
    "\n",
    "transit_time = pd.DataFrame(tt, columns=[\"plant_id\",\"region_id\",\"days_lead_time\",\"per_unit_ship_cost\"])\n",
    "transit_time.to_csv(\"transit_time.csv\", index=False)"
   ]
  },
  {
   "cell_type": "code",
   "execution_count": null,
   "metadata": {},
   "outputs": [],
   "source": []
  }
 ],
 "metadata": {
  "kernelspec": {
   "display_name": "Python 3",
   "language": "python",
   "name": "python3"
  },
  "language_info": {
   "codemirror_mode": {
    "name": "ipython",
    "version": 3
   },
   "file_extension": ".py",
   "mimetype": "text/x-python",
   "name": "python",
   "nbconvert_exporter": "python",
   "pygments_lexer": "ipython3",
   "version": "3.11.2"
  }
 },
 "nbformat": 4,
 "nbformat_minor": 2
}
