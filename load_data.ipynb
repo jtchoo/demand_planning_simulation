{
 "cells": [
  {
   "cell_type": "code",
   "execution_count": 11,
   "metadata": {},
   "outputs": [],
   "source": [
    "import pandas as pd\n",
    "from sqlalchemy import create_engine"
   ]
  },
  {
   "cell_type": "code",
   "execution_count": 12,
   "metadata": {},
   "outputs": [],
   "source": [
    "engine = create_engine(\"sqlite:////Users/jiatongchoo/Desktop/Recruit/Tesla/Project/vehicle_allocation.db\")"
   ]
  },
  {
   "cell_type": "code",
   "execution_count": 13,
   "metadata": {},
   "outputs": [],
   "source": [
    "plants = pd.read_csv(\"plants.csv\")\n",
    "regions = pd.read_csv(\"regions.csv\")\n",
    "models  = pd.read_csv(\"models.csv\")\n",
    "trims   = pd.read_csv(\"trims.csv\")\n",
    "colors  = pd.read_csv(\"colors.csv\")\n",
    "transit_time = pd.read_csv(\"transit_time.csv\")\n",
    "vehicle_production = pd.read_csv(\"vehicle_production.csv\", parse_dates=[\"prod_date\"])\n",
    "regional_demand   = pd.read_csv(\"regional_demand.csv\", parse_dates=[\"week_start\"])"
   ]
  },
  {
   "cell_type": "code",
   "execution_count": 14,
   "metadata": {},
   "outputs": [
    {
     "data": {
      "text/plain": [
       "624"
      ]
     },
     "execution_count": 14,
     "metadata": {},
     "output_type": "execute_result"
    }
   ],
   "source": [
    "plants.to_sql(\"plants\", engine, if_exists=\"replace\", index=False)\n",
    "regions.to_sql(\"regions\", engine, if_exists=\"replace\", index=False)\n",
    "models.to_sql(\"models\", engine, if_exists=\"replace\", index=False)\n",
    "trims.to_sql(\"trims\", engine, if_exists=\"replace\", index=False)\n",
    "colors.to_sql(\"colors\", engine, if_exists=\"replace\", index=False)\n",
    "transit_time.to_sql(\"transit_time\", engine, if_exists=\"replace\", index=False)\n",
    "vehicle_production.to_sql(\"vehicle_production\", engine, if_exists=\"replace\", index=False)\n",
    "regional_demand.to_sql(\"regional_demand\", engine, if_exists=\"replace\", index=False)"
   ]
  },
  {
   "cell_type": "code",
   "execution_count": null,
   "metadata": {},
   "outputs": [],
   "source": []
  }
 ],
 "metadata": {
  "kernelspec": {
   "display_name": "Python 3",
   "language": "python",
   "name": "python3"
  },
  "language_info": {
   "codemirror_mode": {
    "name": "ipython",
    "version": 3
   },
   "file_extension": ".py",
   "mimetype": "text/x-python",
   "name": "python",
   "nbconvert_exporter": "python",
   "pygments_lexer": "ipython3",
   "version": "3.11.2"
  }
 },
 "nbformat": 4,
 "nbformat_minor": 2
}
