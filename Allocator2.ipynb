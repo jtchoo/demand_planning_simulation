{
 "cells": [
  {
   "cell_type": "code",
   "execution_count": 36,
   "metadata": {},
   "outputs": [],
   "source": [
    "import sqlite3\n",
    "import pandas as pd\n",
    "from collections import defaultdict\n",
    "import numpy as np"
   ]
  },
  {
   "cell_type": "code",
   "execution_count": 37,
   "metadata": {},
   "outputs": [],
   "source": [
    "db_path = \"/Users/jiatongchoo/Desktop/Recruit/Tesla/Project/vehicle_allocation.db\"\n",
    "con = sqlite3.connect(db_path)"
   ]
  },
  {
   "cell_type": "code",
   "execution_count": null,
   "metadata": {},
   "outputs": [],
   "source": [
    "plants = pd.read_csv(\"plants.csv\")\n",
    "colors = pd.read_csv(\"colors.csv\")\n",
    "models = pd.read_csv(\"models.csv\")\n",
    "trims = pd.read_csv(\"trims.csv\")\n",
    "regions = pd.read_csv(\"regions.csv\")\n",
    "demand = pd.read_csv(\"regional_demand.csv\")\n",
    "vehicle_production = pd.read_csv(\"vehicle_production.csv\")\n",
    "transit_time = pd.read_csv(\"transit_time.csv\")"
   ]
  },
  {
   "cell_type": "code",
   "execution_count": 39,
   "metadata": {},
   "outputs": [],
   "source": [
    "vehicle_production[\"prod_date\"] = pd.to_datetime(vehicle_production[\"prod_date\"])\n",
    "demand[\"week_start\"] = pd.to_datetime(demand[\"week_start\"])"
   ]
  },
  {
   "cell_type": "code",
   "execution_count": null,
   "metadata": {},
   "outputs": [],
   "source": [
    "vehicle_production[\"week_start\"] = vehicle_production[\"prod_date\"] - pd.to_timedelta(\n",
    "    vehicle_production[\"prod_date\"].dt.dayofweek, unit=\"D\"\n",
    ")\n",
    "base_supply = (\n",
    "    vehicle_production.groupby(\n",
    "        [\"week_start\", \"plant_id\", \"model_code\", \"trim_code\", \"color_code\"], as_index=False\n",
    "    )[\"qty\"].sum()\n",
    "    .rename(columns={\"qty\": \"supply_qty\"})\n",
    ")"
   ]
  },
  {
   "cell_type": "code",
   "execution_count": 41,
   "metadata": {},
   "outputs": [],
   "source": [
    "weekly_demand = demand.rename(columns={\"forecast_qty\":\"demand_qty\"}).copy()"
   ]
  },
  {
   "cell_type": "code",
   "execution_count": null,
   "metadata": {},
   "outputs": [],
   "source": [
    "base_demand = (\n",
    "    demand.groupby(\n",
    "        [\"week_start\", \"region_id\", \"model_code\", \"trim_code\", \"color_code\"], as_index=False\n",
    "    )[\"forecast_qty\"].sum()\n",
    "    .rename(columns={\"forecast_qty\": \"demand_qty\"})\n",
    ")"
   ]
  },
  {
   "cell_type": "code",
   "execution_count": 44,
   "metadata": {},
   "outputs": [],
   "source": [
    "lead_matrix = transit_time.copy()"
   ]
  },
  {
   "cell_type": "code",
   "execution_count": null,
   "metadata": {},
   "outputs": [],
   "source": [
    "def run_greedy_allocation(supply_df, demand_df, lead_df, scenario_id):\n",
    "    allocations = []\n",
    "\n",
    "    for week in sorted(demand_df[\"week_start\"].unique()):\n",
    "        week_supply = supply_df[supply_df[\"week_start\"] == week].copy()\n",
    "        week_demand = demand_df[demand_df[\"week_start\"] == week].copy()\n",
    "\n",
    "        for _, d_row in week_demand.iterrows():\n",
    "            remaining = d_row[\"demand_qty\"]\n",
    "\n",
    "            candidates = lead_df.query(\"region_id == @d_row.region_id\")[[\"plant_id\", \"region_id\", \"days_lead_time\"]]\n",
    "\n",
    "            merged = (\n",
    "                candidates.merge(\n",
    "                    week_supply,\n",
    "                    how=\"left\",\n",
    "                    on=\"plant_id\"\n",
    "                )\n",
    "                .query(\n",
    "                    \"model_code == @d_row.model_code and trim_code == @d_row.trim_code and color_code == @d_row.color_code\"\n",
    "                )\n",
    "                .dropna(subset=[\"supply_qty\"])\n",
    "                .sort_values(\"days_lead_time\")\n",
    "            )\n",
    "\n",
    "            for _, s_row in merged.iterrows():\n",
    "                if remaining <= 0:\n",
    "                    break\n",
    "                available = s_row[\"supply_qty\"]\n",
    "                allocate = min(available, remaining)\n",
    "                if allocate > 0:\n",
    "                    allocations.append(\n",
    "                        {\n",
    "                            \"scenario_id\": scenario_id,\n",
    "                            \"week_start\": week,\n",
    "                            \"plant_id\": s_row[\"plant_id\"],\n",
    "                            \"region_id\": d_row[\"region_id\"],\n",
    "                            \"model_code\": d_row[\"model_code\"],\n",
    "                            \"trim_code\": d_row[\"trim_code\"],\n",
    "                            \"color_code\": d_row[\"color_code\"],\n",
    "                            \"allocated_qty\": int(allocate),\n",
    "                            \"implied_lead_days\": int(s_row[\"days_lead_time\"]),\n",
    "                        }\n",
    "                    )\n",
    "                    week_supply.loc[\n",
    "                        (week_supply[\"plant_id\"] == s_row[\"plant_id\"])\n",
    "                        & (week_supply[\"model_code\"] == s_row[\"model_code\"])\n",
    "                        & (week_supply[\"trim_code\"] == s_row[\"trim_code\"])\n",
    "                        & (week_supply[\"color_code\"] == s_row[\"color_code\"]),\n",
    "                        \"supply_qty\",\n",
    "                    ] -= allocate\n",
    "                    remaining -= allocate\n",
    "    return pd.DataFrame(allocations)"
   ]
  },
  {
   "cell_type": "code",
   "execution_count": 46,
   "metadata": {},
   "outputs": [],
   "source": [
    "#Baseline\n",
    "alloc_baseline = run_greedy_allocation(base_supply, base_demand, lead_matrix, scenario_id=1)"
   ]
  },
  {
   "cell_type": "code",
   "execution_count": 47,
   "metadata": {},
   "outputs": [
    {
     "name": "stderr",
     "output_type": "stream",
     "text": [
      "/var/folders/jb/_hhv0vg53q5_6m25qfc8klvr0000gn/T/ipykernel_65909/614626507.py:3: FutureWarning: Setting an item of incompatible dtype is deprecated and will raise in a future error of pandas. Value '[ 57.6  15.2  34.4  61.6 159.2  35.2  88.8 128.8  36.   11.2  20.   47.2\n",
      " 110.4  28.   62.4 106.4  71.2  28.8  41.6  62.4 160.8  47.2 101.6 164.\n",
      "  54.4  12.8  20.   44.8 100.8  35.2  45.6 121.6  62.4  24.   43.2  68.\n",
      " 178.4  48.8  89.6 176.   53.6  12.8  21.6  38.4  84.8  28.8  64.   88.\n",
      "  68.8  20.   32.   71.2 157.6  52.8  86.4 165.6  44.   15.2  22.4  40.8\n",
      "  96.   28.8  56.8 115.2  57.6  16.8  29.6  61.6 116.   31.2  84.8 148.8\n",
      "  47.2   8.   20.8  54.4 103.2  27.2  49.6  93.6  64.8  16.8  44.   73.6\n",
      " 145.6  40.   82.4 139.2  32.8  10.4  19.2  40.  102.4  36.8  60.8 113.6\n",
      "  61.6  16.   25.6  68.  144.8  34.4  92.  135.2  35.2   4.8  22.4  45.6\n",
      "  97.6  21.6  60.  103.2  56.   29.6  42.4  76.  149.6  48.8  78.4 146.4\n",
      "  36.8  11.2  25.6  35.2 111.2  30.4  57.6  99.2  50.4  16.   27.2  54.4\n",
      " 127.2  36.   72.8 121.6  39.2  14.4  19.2  40.   94.4  24.8  57.6  94.4\n",
      "  63.2  17.6  35.2  60.8 147.2  36.8  82.4 158.4  36.   11.2  18.4  43.2\n",
      " 100.8  21.6  61.6  88.   56.8  16.8  41.6  60.  129.6  34.4  85.6 126.4\n",
      "  29.6   6.4  19.2  39.2  74.4  24.8  51.2 100.8  82.4  14.4  45.6  70.4\n",
      " 156.8  36.8  79.2 135.2  47.2   8.   36.8  35.2  78.4  28.   60.   90.4\n",
      "  62.4  14.4  31.2  50.4 136.   42.4  91.2 169.6  44.8  11.2  26.4  39.2\n",
      " 114.4  28.   60.8 116.   22.4   4.    8.   21.6  52.8  17.6  23.2  40.8\n",
      "   7.2   2.4   5.6   9.6  32.   12.   20.   32. ]' has dtype incompatible with int64, please explicitly cast to a compatible dtype first.\n",
      "  reduced_supply.loc[reduced_supply[\"plant_id\"] == \"FRE\", \"supply_qty\"] *= 0.8\n"
     ]
    }
   ],
   "source": [
    "#Fremont Incident\n",
    "reduced_supply = base_supply.copy()\n",
    "reduced_supply.loc[reduced_supply[\"plant_id\"] == \"FRE\", \"supply_qty\"] *= 0.8\n",
    "alloc_fremont_cut = run_greedy_allocation(reduced_supply, base_demand, lead_matrix, scenario_id=2)"
   ]
  },
  {
   "cell_type": "code",
   "execution_count": null,
   "metadata": {},
   "outputs": [
    {
     "name": "stdout",
     "output_type": "stream",
     "text": [
      "✅ Allocation completed: 1957 total records written\n"
     ]
    }
   ],
   "source": [
    "alloc_all = pd.concat([alloc_baseline, alloc_fremont_cut], ignore_index=True)\n",
    "alloc_all.to_sql(\"allocation_result\", con, if_exists=\"replace\", index=False)\n",
    "print(f\"Allocation completed: {len(alloc_all)} total records written\")"
   ]
  },
  {
   "cell_type": "code",
   "execution_count": 49,
   "metadata": {},
   "outputs": [
    {
     "name": "stdout",
     "output_type": "stream",
     "text": [
      "\n",
      "Regional Allocation Comparison (% Change):\n",
      "            Baseline  Fremont −20%   Change %\n",
      "region_id                                   \n",
      "CC            32703         32057  -1.975354\n",
      "EC            20036         18747  -6.433420\n",
      "WC             4322          3874 -10.365571\n"
     ]
    }
   ],
   "source": [
    "summary = (\n",
    "    alloc_all.groupby([\"scenario_id\", \"region_id\"])[\"allocated_qty\"]\n",
    "    .sum()\n",
    "    .reset_index()\n",
    "    .pivot(index=\"region_id\", columns=\"scenario_id\", values=\"allocated_qty\")\n",
    ")\n",
    "summary.columns = [\"Baseline\", \"Fremont −20%\"]\n",
    "summary[\"Change %\"] = (summary[\"Fremont −20%\"] - summary[\"Baseline\"]) / summary[\"Baseline\"] * 100\n",
    "print(\"\\nRegional Allocation Comparison (% Change):\\n\", summary)"
   ]
  },
  {
   "cell_type": "code",
   "execution_count": 50,
   "metadata": {},
   "outputs": [],
   "source": [
    "alloc_all.to_csv(\"Allocation_result2.csv\", index=False)"
   ]
  },
  {
   "cell_type": "code",
   "execution_count": null,
   "metadata": {},
   "outputs": [],
   "source": []
  }
 ],
 "metadata": {
  "kernelspec": {
   "display_name": "Python 3",
   "language": "python",
   "name": "python3"
  },
  "language_info": {
   "codemirror_mode": {
    "name": "ipython",
    "version": 3
   },
   "file_extension": ".py",
   "mimetype": "text/x-python",
   "name": "python",
   "nbconvert_exporter": "python",
   "pygments_lexer": "ipython3",
   "version": "3.11.2"
  }
 },
 "nbformat": 4,
 "nbformat_minor": 2
}
